{
 "cells": [
  {
   "cell_type": "markdown",
   "metadata": {},
   "source": [
    "# Python Insights - Analisando Dados com Python\n",
    "\n",
    "### Case - Cancelamento de Clientes\n",
    "\n",
    "Você foi contratado por uma empresa com mais de 800 mil clientes para um projeto de Dados. Recentemente a empresa percebeu que da sua base total de clientes, a maioria são clientes inativos, ou seja, que já cancelaram o serviço.\n",
    "\n",
    "Precisando melhorar seus resultados ela quer conseguir entender os principais motivos desses cancelamentos e quais as ações mais eficientes para reduzir esse número.\n",
    "\n",
    "Base de dados e arquivos: https://drive.google.com/drive/folders/1uDesZePdkhiraJmiyeZ-w5tfc8XsNYFZ?usp=drive_link"
   ]
  },
  {
   "cell_type": "code",
   "execution_count": null,
   "metadata": {},
   "outputs": [],
   "source": [
    "# !pip install pandas openpyxl numpy nbformat plotly ipykernel\n",
    "\n",
    "# Passo a Passo:\n",
    "\n",
    "# Passo 1: Importar a Base de Dados\n",
    "import pandas as pd # pd é um apelido da biblioteca Pandas\n",
    "\n",
    "tabela = pd.read_csv(\"cancelamentos.csv\")\n",
    "\n",
    "# Passo 2: Visualizar a Base de Dados (2 Objetivos: Entender as Informações + Encontrar Problemas)\n",
    "# Devemos Excluir Informações Inúteis - \"Informações que não te ajudam, te atrapalham\";\n",
    "tabela = tabela.drop(columns=\"CustomerID\")\n",
    "display(tabela)"
   ]
  },
  {
   "cell_type": "code",
   "execution_count": null,
   "metadata": {},
   "outputs": [],
   "source": [
    "# Passo 3: Resolver os Problemas da Base de Dados.  \n",
    "    \n",
    "# Informações no Formato Errado;\n",
    "display(tabela.info()) # Esse formato .info(), nos ajuda a detectar em qual formato cada linha está (int, float ou object) e se há células/linhas/colunas vazias.\n",
    "\n",
    "# Informações Vazias;\n",
    "tabela = tabela.dropna() #Diferente do .drop(), o .dropna() joga fora todas as linhas/colunas vazias\n",
    "display(tabela.info())\n",
    "\n",
    "    "
   ]
  },
  {
   "cell_type": "code",
   "execution_count": null,
   "metadata": {},
   "outputs": [],
   "source": [
    "# Passo 4: Análise Inicial (\"Quantos Clientes Cancelaram?\", \"Qual a % (Porcentagem) de clientes?\")\n",
    "\n",
    "# Contar na coluna \"cancelou\", quantos cancelaram e quantos não cancelaram.\n",
    "display(tabela[\"cancelou\"].value_counts())\n",
    "\n",
    "# Mostrar o valores em % (Percentual)\n",
    "display(tabela[\"cancelou\"].value_counts(normalize=True))\n"
   ]
  },
  {
   "cell_type": "code",
   "execution_count": null,
   "metadata": {},
   "outputs": [],
   "source": [
    "# Passo 5: Analisar a Causa dos Cancelamentos dos Clientes.\n",
    "\n",
    "# Quero entender como cada coluna da Base de Dados impacta no cancelamento do Cliente\n",
    "# Criando gráficos\n",
    "import plotly.express as px\n",
    "\n",
    "# Criar o gráfico\n",
    "\n",
    "# Utilizando o \"for\" para mostrar os gráficos para cada coluna na tabela\n",
    "for coluna in tabela.columns:\n",
    "\n",
    "    # Usaremos o Gráfico de Histograma, ele mostra a quantidade de valores em cada situação\n",
    "    grafico = px.histogram(tabela, x=coluna, color=\"cancelou\")\n",
    "\n",
    "    # Exibe o gráfico\n",
    "    grafico.show()"
   ]
  },
  {
   "cell_type": "code",
   "execution_count": null,
   "metadata": {},
   "outputs": [],
   "source": [
    "# Informações Interessantes\n",
    "\n",
    "    # Ponto 1. Clientes que ligaram mais de 4x pro callcenter cancelaram\n",
    "        # Vamos criar um alerta para quando o cliente ligar pela 3° vez pro callcenter\n",
    "\n",
    "    # Ponto 2. Todos os clientes do plano mensal cancelaram\n",
    "        # Vamos dar desconto nos outros contratos\n",
    "\n",
    "    # Ponto 3. Todos os clientes que atrasaram mais de 20 dias o pagamento cancelaram\n",
    "        # Ligar um alerta pra equipe de cobrança para quando o cliente bater 10 dias de atraso\n",
    "\n",
    "# Se eu resolver esses problemas, como vai ficar a média de cancelamento?\n",
    "\n",
    "# Callcenter - Tirando o problema dos clientes que ligaram mais 4x que cancelaram\n",
    "condicao = tabela[\"ligacoes_callcenter\"]<=4\n",
    "tabela = tabela[condicao]\n",
    "\n",
    "# Mostrar o valores em % (Percentual)\n",
    "display(tabela[\"cancelou\"].value_counts(normalize=True))\n",
    "\n",
    "\n",
    "# Dias de Atraso no Pagamento - Tirando o problema dos clientes que atrasaram no pagamento mais de 20\n",
    "condicao = tabela[\"dias_atraso\"]<=20\n",
    "tabela = tabela[condicao]\n",
    "\n",
    "# Mostrar o valores em % (Percentual)\n",
    "display(tabela[\"cancelou\"].value_counts(normalize=True))\n",
    "\n",
    "\n",
    "# Dias de Atraso no Pagamento - Tirando o problema dos clientes que atrasaram no pagamento mais de 20\n",
    "condicao = tabela[\"duracao_contrato\"]!=\"Monthly\"\n",
    "tabela = tabela[condicao]\n",
    "\n",
    "# Mostrar o valores em % (Percentual)\n",
    "display(tabela[\"cancelou\"].value_counts(normalize=True))\n",
    "\n",
    "\n",
    "# Site com Base de Dados Gratuitos pra treinar\n",
    "# Kaggle"
   ]
  }
 ],
 "metadata": {
  "kernelspec": {
   "display_name": "Python 3",
   "language": "python",
   "name": "python3"
  },
  "language_info": {
   "codemirror_mode": {
    "name": "ipython",
    "version": 3
   },
   "file_extension": ".py",
   "mimetype": "text/x-python",
   "name": "python",
   "nbconvert_exporter": "python",
   "pygments_lexer": "ipython3",
   "version": "3.13.7"
  },
  "orig_nbformat": 4
 },
 "nbformat": 4,
 "nbformat_minor": 2
}
